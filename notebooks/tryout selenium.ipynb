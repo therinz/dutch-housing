{
 "cells": [
  {
   "cell_type": "code",
   "execution_count": 1,
   "metadata": {},
   "outputs": [],
   "source": [
    "from selenium import webdriver\n",
    "from selenium.webdriver.common.keys import Keys\n",
    "from bs4 import BeautifulSoup"
   ]
  },
  {
   "cell_type": "code",
   "execution_count": 16,
   "metadata": {},
   "outputs": [],
   "source": [
    "driver = webdriver.Firefox()\n",
    "driver.get(\"http://www.funda.nl/koop/gemeente-amsterdam/\")\n",
    "assert \"[funda]\" in driver.title\n",
    "html = driver.page_source\n",
    "\n"
   ]
  },
  {
   "cell_type": "code",
   "execution_count": 17,
   "metadata": {},
   "outputs": [
    {
     "name": "stdout",
     "output_type": "stream",
     "text": [
      "['https://www.funda.nl/koop/amsterdam/huis-41012303-guus-trestorffstraat-14/?navigateSource=resultlist', 'https://www.funda.nl/koop/amsterdam/huis-41012998-meteorenweg-86/?navigateSource=resultlist', 'https://www.funda.nl/koop/amsterdam/huis-87474809-emanzana-60/?navigateSource=resultlist', 'https://www.funda.nl/koop/amsterdam/huis-87473281-twellostraat-15/?navigateSource=resultlist', 'https://www.funda.nl/koop/amsterdam/huis-41018353-weesperzijde-112-m/?navigateSource=resultlist', 'https://www.funda.nl/koop/amsterdam/huis-87472911-lutmastraat-237/?navigateSource=resultlist', 'https://www.funda.nl/koop/amsterdam/huis-41016238-bosplaat-25/?navigateSource=resultlist', 'https://www.funda.nl/koop/amsterdam/huis-41015207-brigantijnkade-46/?navigateSource=resultlist', 'https://www.funda.nl/koop/amsterdam/huis-41015904-ben-van-meerendonkstraat-156/?navigateSource=resultlist', 'https://www.funda.nl/koop/amsterdam/huis-87479116-arenpalmstraat-16/?navigateSource=resultlist', 'https://www.funda.nl/koop/amsterdam/huis-41001468-haringvlietstraat-53/?navigateSource=resultlist', 'https://www.funda.nl/koop/amsterdam/huis-41009812-sloterweg-745/?navigateSource=resultlist', 'https://www.funda.nl/koop/amsterdam/huis-41005039-amelandstraat-6/?navigateSource=resultlist', 'https://www.funda.nl/koop/amsterdam/huis-41094977-bart-poesiatstraat-29/?navigateSource=resultlist', 'https://www.funda.nl/koop/amsterdam/huis-41092404-geerdinkhof-21/?navigateSource=resultlist']\n"
     ]
    }
   ],
   "source": [
    "#elem = \n",
    "#html = elem.get_attribute('innerHTML')\n",
    "# Get BeautifulSoup to handle the HTML\n",
    "soup = BeautifulSoup(html, 'html.parser')\n",
    "\n",
    "# Filter for \n",
    "links = [d.a[\"href\"] \n",
    "         for d in soup.find_all(class_=\"search-result__header-title-col\")]\n",
    "\n",
    "for link in links:\n",
    "    print(link)\n"
   ]
  },
  {
   "cell_type": "code",
   "execution_count": 18,
   "metadata": {},
   "outputs": [],
   "source": [
    "driver.close()"
   ]
  },
  {
   "cell_type": "code",
   "execution_count": null,
   "metadata": {},
   "outputs": [],
   "source": []
  }
 ],
 "metadata": {
  "kernelspec": {
   "display_name": "Python 3",
   "language": "python",
   "name": "python3"
  },
  "language_info": {
   "codemirror_mode": {
    "name": "ipython",
    "version": 3
   },
   "file_extension": ".py",
   "mimetype": "text/x-python",
   "name": "python",
   "nbconvert_exporter": "python",
   "pygments_lexer": "ipython3",
   "version": "3.7.9"
  }
 },
 "nbformat": 4,
 "nbformat_minor": 4
}
