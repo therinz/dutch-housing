{
 "cells": [
  {
   "cell_type": "markdown",
   "metadata": {},
   "source": [
    "# Retrieve data\n",
    "Now we have several functions with which we can get our data easily. "
   ]
  },
  {
   "cell_type": "code",
   "execution_count": 1,
   "metadata": {},
   "outputs": [
    {
     "ename": "ModuleNotFoundError",
     "evalue": "No module named 'notebooks'",
     "output_type": "error",
     "traceback": [
      "\u001b[1;31m---------------------------------------------------------------------------\u001b[0m",
      "\u001b[1;31mModuleNotFoundError\u001b[0m                       Traceback (most recent call last)",
      "\u001b[1;32m<ipython-input-1-f3b35a5f2e17>\u001b[0m in \u001b[0;36m<module>\u001b[1;34m\u001b[0m\n\u001b[0;32m      1\u001b[0m \u001b[1;31m# Import libraries\u001b[0m\u001b[1;33m\u001b[0m\u001b[1;33m\u001b[0m\u001b[1;33m\u001b[0m\u001b[0m\n\u001b[0;32m      2\u001b[0m \u001b[1;33m\u001b[0m\u001b[0m\n\u001b[1;32m----> 3\u001b[1;33m \u001b[1;32mimport\u001b[0m \u001b[0mjson_dataframe\u001b[0m\u001b[1;33m\u001b[0m\u001b[1;33m\u001b[0m\u001b[0m\n\u001b[0m\u001b[0;32m      4\u001b[0m \u001b[1;32mimport\u001b[0m \u001b[0mpandas\u001b[0m \u001b[1;32mas\u001b[0m \u001b[0mpd\u001b[0m\u001b[1;33m\u001b[0m\u001b[1;33m\u001b[0m\u001b[0m\n",
      "\u001b[1;32m~\\Documents\\ironhack\\git\\dutch-housing\\notebooks\\json_dataframe.py\u001b[0m in \u001b[0;36m<module>\u001b[1;34m\u001b[0m\n\u001b[0;32m     10\u001b[0m \u001b[1;32mimport\u001b[0m \u001b[0mpandas\u001b[0m \u001b[1;32mas\u001b[0m \u001b[0mpd\u001b[0m\u001b[1;33m\u001b[0m\u001b[1;33m\u001b[0m\u001b[0m\n\u001b[0;32m     11\u001b[0m \u001b[1;33m\u001b[0m\u001b[0m\n\u001b[1;32m---> 12\u001b[1;33m \u001b[1;32mfrom\u001b[0m \u001b[0mnotebooks\u001b[0m\u001b[1;33m.\u001b[0m\u001b[0mhelpers\u001b[0m \u001b[1;32mimport\u001b[0m \u001b[0mconvert_elapsed_time\u001b[0m\u001b[1;33m,\u001b[0m \u001b[0mextract_num\u001b[0m\u001b[1;33m,\u001b[0m \u001b[0mbuild_era\u001b[0m\u001b[1;33m\u001b[0m\u001b[1;33m\u001b[0m\u001b[0m\n\u001b[0m\u001b[0;32m     13\u001b[0m \u001b[1;32mfrom\u001b[0m \u001b[0mnotebooks\u001b[0m\u001b[1;33m.\u001b[0m\u001b[0mhelpers\u001b[0m \u001b[1;32mimport\u001b[0m \u001b[0mlisting_type\u001b[0m\u001b[1;33m,\u001b[0m \u001b[0mroof_description\u001b[0m\u001b[1;33m,\u001b[0m \u001b[0mlog_print\u001b[0m\u001b[1;33m\u001b[0m\u001b[1;33m\u001b[0m\u001b[0m\n\u001b[0;32m     14\u001b[0m \u001b[1;32mfrom\u001b[0m \u001b[0mnotebooks\u001b[0m\u001b[1;33m.\u001b[0m\u001b[0mhelpers\u001b[0m \u001b[1;32mimport\u001b[0m \u001b[0mgarden\u001b[0m\u001b[1;33m,\u001b[0m \u001b[0mvalidate_input\u001b[0m\u001b[1;33m,\u001b[0m \u001b[0mcontains_to_binary\u001b[0m\u001b[1;33m\u001b[0m\u001b[1;33m\u001b[0m\u001b[0m\n",
      "\u001b[1;31mModuleNotFoundError\u001b[0m: No module named 'notebooks'"
     ]
    }
   ],
   "source": [
    "# Import libraries\n",
    "\n",
    "import json_dataframe\n",
    "import pandas as pd"
   ]
  },
  {
   "cell_type": "markdown",
   "metadata": {},
   "source": [
    "### Convert scraped data to dataframe\n",
    "The data we got from scraping is stored in a JSON file. With our function we can import, clean and export the data. The initial walkthrough is in data_cleaning.ipynb."
   ]
  },
  {
   "cell_type": "code",
   "execution_count": 2,
   "metadata": {},
   "outputs": [
    {
     "name": "stdout",
     "output_type": "stream",
     "text": [
      "Created DataFrame with 4430 rows.\n",
      "Rename columns...\n",
      "Drop irrelevant cols & rows...\n",
      "Extract numeric information...\n",
      "Set binary columns...\n",
      "Create dummy columns for categorical columns...\n",
      "Please provide Google Maps API key:\n",
      "········\n",
      "Fetch coordinates and bin into neighborhoods...\n",
      "Successfully exported to '..\\data\\sold.pkl'.\n"
     ]
    }
   ],
   "source": [
    "json_dataframe.clean_dataset(\"sold.json\")"
   ]
  },
  {
   "cell_type": "markdown",
   "metadata": {},
   "source": [
    "### Combine data\n",
    "We have scraped data for property currently on sale and also listings already sold. With this function we can combine the two."
   ]
  },
  {
   "cell_type": "code",
   "execution_count": 3,
   "metadata": {},
   "outputs": [
    {
     "name": "stdout",
     "output_type": "stream",
     "text": [
      "Successfully exported as ..\\data\\combination.pkl.\n"
     ]
    }
   ],
   "source": [
    "json_dataframe.combine_df(\"sale.pkl\", \"sold.pkl\")"
   ]
  },
  {
   "cell_type": "code",
   "execution_count": 4,
   "metadata": {},
   "outputs": [],
   "source": [
    "df = pd.read_pickle(\"../data/sold.pkl\")"
   ]
  },
  {
   "cell_type": "code",
   "execution_count": 6,
   "metadata": {},
   "outputs": [
    {
     "data": {
      "text/plain": [
       "['address',\n",
       " 'asking_price',\n",
       " 'price_m2',\n",
       " 'vve_contribution',\n",
       " 'service_fees_pm',\n",
       " 'days_online',\n",
       " 'build_year',\n",
       " 'property_m3',\n",
       " 'land_m2',\n",
       " 'living_m2',\n",
       " 'floors',\n",
       " 'apartment_level',\n",
       " 'balcony',\n",
       " 'garden',\n",
       " 'storage_type',\n",
       " 'parking',\n",
       " 'vve_kvk',\n",
       " 'vve_am',\n",
       " 'vve_per_contr',\n",
       " 'vve_reserve_fund',\n",
       " 'vve_maintenance',\n",
       " 'vve_insurance',\n",
       " 'num_bathrooms',\n",
       " 'num_toilets',\n",
       " 'rooms',\n",
       " 'bedrooms',\n",
       " 'pt_appartement_met_open_portiek',\n",
       " 'pt_drive-in_woning',\n",
       " 'pt_geschakelde_woning',\n",
       " 'pt_dubbel_benedenhuis',\n",
       " 'pt_bungalow',\n",
       " 'pt_verspringend',\n",
       " 'pt_dubbel_bovenhuis_met_open_portiek',\n",
       " 'pt_waterwoning',\n",
       " 'pt_tussenwoning',\n",
       " 'pt_beneden_+_bovenwoning',\n",
       " 'pt_benedenwoning',\n",
       " 'pt_bel-etage_met_open_portiek',\n",
       " 'pt_dubbel_bovenhuis',\n",
       " 'pt_bedrijfs-_of_dienstwoning',\n",
       " 'pt_bovenwoning',\n",
       " 'pt_villa',\n",
       " 'pt_geschakelde_2-onder-1-kapwoning',\n",
       " 'pt_corridorflat',\n",
       " 'pt_hoekwoning',\n",
       " 'pt_portiekwoning',\n",
       " 'pt_vrijstaande_woning',\n",
       " 'pt_2-onder-1-kapwoning',\n",
       " 'pt_halfvrijstaande_woning',\n",
       " 'pt_eengezinswoning',\n",
       " 'pt_appartement',\n",
       " 'pt_studentenkamer',\n",
       " 'pt_kwadrant_woning',\n",
       " 'pt_landhuis',\n",
       " 'pt_service_flat',\n",
       " 'pt_penthouse',\n",
       " 'pt_herenhuis',\n",
       " 'pt_open_portiek',\n",
       " 'pt_split-level_woning',\n",
       " 'rf_zadeldak',\n",
       " 'rf_plat dak',\n",
       " 'rf_lessenaardak',\n",
       " 'rf_mansarde',\n",
       " 'rf_samengesteld',\n",
       " 'rf_tentdak',\n",
       " 'rf_dwarskap',\n",
       " 'rf_schilddak',\n",
       " 'rt_bitumin',\n",
       " 'rt_pannen',\n",
       " 'rt_kunststof',\n",
       " 'rt_leisteen',\n",
       " 'rt_metaal',\n",
       " 'rt_asbest',\n",
       " 'rt_riet',\n",
       " 'xf_attic',\n",
       " 'xf_cellar',\n",
       " 'en_B',\n",
       " 'en_C',\n",
       " 'en_D',\n",
       " 'en_E',\n",
       " 'en_F',\n",
       " 'en_G',\n",
       " 'ga_oost',\n",
       " 'ga_west',\n",
       " 'ga_zuid',\n",
       " 'geometry']"
      ]
     },
     "execution_count": 6,
     "metadata": {},
     "output_type": "execute_result"
    }
   ],
   "source": [
    "[col for col in df.columns if not col.startswith(\"ne\")]"
   ]
  },
  {
   "cell_type": "code",
   "execution_count": null,
   "metadata": {},
   "outputs": [],
   "source": [
    "import plotly"
   ]
  }
 ],
 "metadata": {
  "kernelspec": {
   "display_name": "Python 3",
   "language": "python",
   "name": "python3"
  },
  "language_info": {
   "codemirror_mode": {
    "name": "ipython",
    "version": 3
   },
   "file_extension": ".py",
   "mimetype": "text/x-python",
   "name": "python",
   "nbconvert_exporter": "python",
   "pygments_lexer": "ipython3",
   "version": "3.8.5"
  }
 },
 "nbformat": 4,
 "nbformat_minor": 4
}
