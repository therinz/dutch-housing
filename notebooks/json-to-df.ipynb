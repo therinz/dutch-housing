{
 "cells": [
  {
   "cell_type": "markdown",
   "metadata": {},
   "source": [
    "# Retrieve data\n",
    "Now we have several functions with which we can get our data easily. "
   ]
  },
  {
   "cell_type": "code",
   "execution_count": 1,
   "metadata": {},
   "outputs": [],
   "source": [
    "# Import libraries\n",
    "import importlib\n",
    "importlib.import_module(\"json_dataframe\")\n",
    "\n",
    "import json_dataframe\n",
    "import pandas as pd"
   ]
  },
  {
   "cell_type": "markdown",
   "metadata": {},
   "source": [
    "### Convert scraped data to dataframe\n",
    "The data we got from scraping is stored in a JSON file. With our function we can import, clean and export the data. The initial walkthrough is in data_cleaning.ipynb."
   ]
  },
  {
   "cell_type": "code",
   "execution_count": null,
   "metadata": {},
   "outputs": [
    {
     "name": "stdout",
     "output_type": "stream",
     "text": [
      "Created DataFrame with 4430 rows.\n",
      "Rename columns...\n",
      "Drop irrelevant cols & rows...\n",
      "Extract numeric information...\n",
      "Set binary columns...\n",
      "Create dummy columns for categorical columns...\n",
      "Please provide Google Maps API key:\n",
      "········\n",
      "Fetch coordinates and bin into neighborhoods...\n"
     ]
    }
   ],
   "source": [
    "json_dataframe.clean_dataset(\"sold.json\")"
   ]
  },
  {
   "cell_type": "markdown",
   "metadata": {},
   "source": [
    "### Combine data\n",
    "We have scraped data for property currently on sale and also listings already sold. With this function we can combine the two."
   ]
  },
  {
   "cell_type": "code",
   "execution_count": null,
   "metadata": {},
   "outputs": [],
   "source": [
    "json_dataframe.combine_df(\"sale.pkl\", \"sold.pkl\")"
   ]
  },
  {
   "cell_type": "code",
   "execution_count": 9,
   "metadata": {},
   "outputs": [
    {
     "data": {
      "text/plain": [
       "(4272, 2)"
      ]
     },
     "execution_count": 9,
     "metadata": {},
     "output_type": "execute_result"
    }
   ],
   "source": [
    "pd.read_pickle(\"../data/sold.pkl\")[\"days_online\"].shape"
   ]
  },
  {
   "cell_type": "code",
   "execution_count": null,
   "metadata": {},
   "outputs": [],
   "source": []
  }
 ],
 "metadata": {
  "kernelspec": {
   "display_name": "Python 3",
   "language": "python",
   "name": "python3"
  },
  "language_info": {
   "codemirror_mode": {
    "name": "ipython",
    "version": 3
   },
   "file_extension": ".py",
   "mimetype": "text/x-python",
   "name": "python",
   "nbconvert_exporter": "python",
   "pygments_lexer": "ipython3",
   "version": "3.8.5"
  }
 },
 "nbformat": 4,
 "nbformat_minor": 4
}
