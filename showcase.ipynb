{
 "cells": [
  {
   "cell_type": "markdown",
   "metadata": {
    "slideshow": {
     "slide_type": "slide"
    }
   },
   "source": [
    "## Prediction tool in action"
   ]
  },
  {
   "cell_type": "code",
   "execution_count": null,
   "metadata": {
    "scrolled": false,
    "slideshow": {
     "slide_type": "fragment"
    }
   },
   "outputs": [],
   "source": [
    "lookup_worth()"
   ]
  },
  {
   "cell_type": "code",
   "execution_count": null,
   "metadata": {
    "slideshow": {
     "slide_type": "skip"
    }
   },
   "outputs": [],
   "source": [
    "https://www.funda.nl/koop/amsterdam/appartement-41024235-haarlemmerdijk-107-c/\n",
    "https://www.funda.nl/koop/amsterdam/appartement-41018700-albert-cuypstraat-49-1/\n",
    "https://www.funda.nl/koop/amsterdam/appartement-41010612-kuipersstraat-152-iii/\n",
    "https://www.funda.nl/koop/amsterdam/appartement-87475507-jan-den-haenstraat-6-c/\n",
    "\n",
    "house\n",
    "https://www.funda.nl/koop/amsterdam/huis-87486765-pisuissehof-21/"
   ]
  },
  {
   "cell_type": "code",
   "execution_count": 1,
   "metadata": {
    "slideshow": {
     "slide_type": "skip"
    }
   },
   "outputs": [],
   "source": [
    "from predict_price import lookup_worth"
   ]
  }
 ],
 "metadata": {
  "celltoolbar": "Slideshow",
  "kernelspec": {
   "display_name": "Python 3",
   "language": "python",
   "name": "python3"
  },
  "language_info": {
   "codemirror_mode": {
    "name": "ipython",
    "version": 3
   },
   "file_extension": ".py",
   "mimetype": "text/x-python",
   "name": "python",
   "nbconvert_exporter": "python",
   "pygments_lexer": "ipython3",
   "version": "3.8.5"
  }
 },
 "nbformat": 4,
 "nbformat_minor": 4
}
